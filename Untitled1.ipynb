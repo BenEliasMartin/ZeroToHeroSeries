{
  "nbformat": 4,
  "nbformat_minor": 0,
  "metadata": {
    "colab": {
      "provenance": [],
      "authorship_tag": "ABX9TyPDBYnOyXRIi82GgLbWQ/Nv",
      "include_colab_link": true
    },
    "kernelspec": {
      "name": "python3",
      "display_name": "Python 3"
    },
    "language_info": {
      "name": "python"
    }
  },
  "cells": [
    {
      "cell_type": "markdown",
      "metadata": {
        "id": "view-in-github",
        "colab_type": "text"
      },
      "source": [
        "<a href=\"https://colab.research.google.com/github/BenEliasMartin/ZeroToHeroSeries/blob/main/Untitled1.ipynb\" target=\"_parent\"><img src=\"https://colab.research.google.com/assets/colab-badge.svg\" alt=\"Open In Colab\"/></a>"
      ]
    },
    {
      "cell_type": "markdown",
      "source": [
        "# Zero to Hero Playlist by Andrej Karpathy"
      ],
      "metadata": {
        "id": "hKOklVv9Eq1U"
      }
    },
    {
      "cell_type": "markdown",
      "source": [
        "Chapter 1: [The spelled-out intro to neural networks and backpropagation: building micrograd](https://www.youtube.com/watch?v=VMj-3S1tku0&list=PLAqhIrjkxbuWI23v9cThsA9GvCAUhRvKZ)"
      ],
      "metadata": {
        "id": "hubPbAudE1BT"
      }
    },
    {
      "cell_type": "code",
      "execution_count": 4,
      "metadata": {
        "id": "uvV6ungZEp4f"
      },
      "outputs": [],
      "source": [
        " import math\n",
        " import numpy as np\n",
        " import matplotlib.pyplot as plt\n",
        " %matplotlib inline"
      ]
    },
    {
      "cell_type": "code",
      "source": [
        "def f(x):\n",
        "  return 3*x**2 - 4*x + 5"
      ],
      "metadata": {
        "id": "vi0JLxttLRpB"
      },
      "execution_count": 5,
      "outputs": []
    },
    {
      "cell_type": "code",
      "source": [
        "f(3.0)"
      ],
      "metadata": {
        "colab": {
          "base_uri": "https://localhost:8080/"
        },
        "id": "rmf3E7tzLS2w",
        "outputId": "19d4c5e9-30c0-44b7-9a98-8dbcdeedb967"
      },
      "execution_count": 7,
      "outputs": [
        {
          "output_type": "execute_result",
          "data": {
            "text/plain": [
              "20.0"
            ]
          },
          "metadata": {},
          "execution_count": 7
        }
      ]
    },
    {
      "cell_type": "code",
      "source": [
        "xs = np.arange(-5, 5, 0.25)\n",
        "ys = f(xs)\n",
        "plt.plot(xs, ys)"
      ],
      "metadata": {
        "colab": {
          "base_uri": "https://localhost:8080/",
          "height": 447
        },
        "id": "2I3mNizLLdQg",
        "outputId": "eef70d81-094a-4d6e-d09d-d96f082af997"
      },
      "execution_count": 11,
      "outputs": [
        {
          "output_type": "execute_result",
          "data": {
            "text/plain": [
              "[<matplotlib.lines.Line2D at 0x7890146ed4c0>]"
            ]
          },
          "metadata": {},
          "execution_count": 11
        },
        {
          "output_type": "display_data",
          "data": {
            "text/plain": [
              "<Figure size 640x480 with 1 Axes>"
            ],
            "image/png": "[encoded data removed]"
          },
          "metadata": {}
        }
      ]
    },
    {
      "cell_type": "code",
      "source": [
        "h = 0.0001\n",
        "\n",
        "a = 2.0\n",
        "b = -3.0\n",
        "c = 10.0\n",
        "d = a*b + c\n",
        "print(d)\n",
        "\n",
        "c+= h\n",
        "d2 = a*b + c\n",
        "print('d1', d)\n",
        "print('d2', d2)\n",
        "print('slope', (d2 - d)/h)"
      ],
      "metadata": {
        "colab": {
          "base_uri": "https://localhost:8080/"
        },
        "id": "tGKE5yI-Lnix",
        "outputId": "7728999e-ccc2-425d-bc2f-632f6eb49c6f"
      },
      "execution_count": 45,
      "outputs": [
        {
          "output_type": "stream",
          "name": "stdout",
          "text": [
            "4.0\n",
            "d1 4.0\n",
            "d2 4.0001\n",
            "slope 0.9999999999976694\n"
          ]
        }
      ]
    },
    {
      "cell_type": "code",
      "source": [
        "class Value:\n",
        "  def __init__(self, data, _children = (), _op='', label = ''):\n",
        "    self.data = data\n",
        "    self._prev = set(_children)\n",
        "    self.grad = 0.0\n",
        "    self._op = _op\n",
        "    self.label = label\n",
        "    self._backward = lambda: None\n",
        "  def __repr__(self):\n",
        "    return f\"Value(data={self.data})\"\n",
        "  def __add__(self, other):\n",
        "    other = other if isinstance(other, Value) else Value(other)\n",
        "    out = Value(self.data + other.data, (self, other), '+', label = f\"{self.label} {self._op} {other.label} \");\n",
        "    def backward():\n",
        "      self.grad += out.grad\n",
        "      other.grad += out.grad\n",
        "    out._backward = backward\n",
        "    return out\n",
        "  def __truediv__(self, other):\n",
        "    return self * other**-1\n",
        "\n",
        "\n",
        "  def __mul__(self, other):\n",
        "    other = other if isinstance(other, Value) else Value(other)\n",
        "    out = Value(self.data * other.data, (self, other), '*', label = f\"{self.label} {self._op} {other.label} \")\n",
        "    def backward():\n",
        "      self.grad += out.grad * other.data\n",
        "      other.grad += out.grad * self.data\n",
        "    out._backward = backward\n",
        "    return out\n",
        "  def exp(self):\n",
        "    x = self.data\n",
        "    out = Value(math.exp(x), (self, ), 'exp') #e^x\n",
        "\n",
        "    def backward():\n",
        "      self.grad += out.grad  * out.data\n",
        "\n",
        "    out._backward = backward\n",
        "    return out\n",
        "\n",
        "\n",
        "  def __rmul__(self, other):\n",
        "    return self * other\n",
        "  def __radd__(self, other):\n",
        "    return self + other\n",
        "  def __rsub__(self, other):\n",
        "    return Value(other) - self #other - self\n",
        "\n",
        "  def __pow__(self, other):\n",
        "    assert isinstance(other, (int, float)), \"only supporting int/float powers for now\"\n",
        "    out = Value(self.data**other, (self, ), f'**{other}', label = f\"{self.label} {self._op} {other} \")\n",
        "\n",
        "    def backward():\n",
        "      self.grad += out.grad * other * self.data**(other - 1)\n",
        "\n",
        "\n",
        "    out._backward = backward\n",
        "    return out\n",
        "  def __neg__(self):\n",
        "    return self * -1\n",
        "  def __sub__(self, other):\n",
        "    other = other if isinstance(other, Value) else Value(other)\n",
        "    return self + (-other)\n",
        "  def tanh(self):\n",
        "    x = self.data\n",
        "    t = (math.exp(2*x) - 1)/(math.exp(2*x) + 1)\n",
        "    out = Value(t, (self,) , 'tanh')\n",
        "    def backward():\n",
        "      self.grad += (1 - t**2) * out.grad;\n",
        "\n",
        "    out._backward = backward\n",
        "    return out\n",
        "  def backward(self):\n",
        "    topo = []\n",
        "    visited = set()\n",
        "    def build_topo(v):\n",
        "      if v not in visited:\n",
        "        visited.add(v)\n",
        "        for child in v._prev:\n",
        "          build_topo(child)\n",
        "        topo.append(v)\n",
        "    build_topo(self)\n",
        "    self.grad = 1.0\n",
        "    for node in reversed(topo):\n",
        "      node._backward()"
      ],
      "metadata": {
        "id": "hxJd5CSSOpX0"
      },
      "execution_count": 99,
      "outputs": []
    },
    {
      "cell_type": "code",
      "source": [
        "a = Value(2.0)\n",
        "b = Value(4.0)\n",
        "a - b"
      ],
      "metadata": {
        "colab": {
          "base_uri": "https://localhost:8080/"
        },
        "id": "ftKNhtrZOE5d",
        "outputId": "b45e09ce-e680-4e38-a4a0-18aacc0050ff"
      },
      "execution_count": 14,
      "outputs": [
        {
          "output_type": "execute_result",
          "data": {
            "text/plain": [
              "Value(data=-2.0)"
            ]
          },
          "metadata": {},
          "execution_count": 14
        }
      ]
    },
    {
      "cell_type": "code",
      "source": [
        "from graphviz import Digraph\n",
        "\n",
        "def trace(root):\n",
        "  # builds a set of all nodes and edges in a graph\n",
        "  nodes, edges = set(), set()\n",
        "  def build(v):\n",
        "    if v not in nodes:\n",
        "      nodes.add(v)\n",
        "      for child in v._prev:\n",
        "        edges.add((child, v))\n",
        "        build(child)\n",
        "  build(root)\n",
        "  return nodes, edges\n",
        "\n",
        "def draw_dot(root):\n",
        "  dot = Digraph(format='svg', graph_attr={'rankdir': 'LR'}) # LR = left to right\n",
        "\n",
        "  nodes, edges = trace(root)\n",
        "  for n in nodes:\n",
        "    uid = str(id(n))\n",
        "    # for any value in the graph, create a rectangular ('record') node for it\n",
        "    dot.node(name = uid, label = \"{ %s | data %.4f | grad %.4f }\" % (n.label, n.data, n.grad), shape='record')\n",
        "    if n._op:\n",
        "      # if this value is a result of some operation, create an op node for it\n",
        "      dot.node(name = uid + n._op, label = n._op)\n",
        "      # and connect this node to it\n",
        "      dot.edge(uid + n._op, uid)\n",
        "\n",
        "  for n1, n2 in edges:\n",
        "    # connect n1 to the op node of n2\n",
        "    dot.edge(str(id(n1)), str(id(n2)) + n2._op)\n",
        "\n",
        "  return dot\n"
      ],
      "metadata": {
        "id": "GCKc0VszOthi"
      },
      "execution_count": 22,
      "outputs": []
    },
    {
      "cell_type": "code",
      "source": [
        "draw_dot(L)"
      ],
      "metadata": {
        "colab": {
          "base_uri": "https://localhost:8080/",
          "height": 246
        },
        "id": "6_gwkTh0SbrW",
        "outputId": "7b239109-bf8c-4cd2-ab45-e1f2c5e423c5"
      },
      "execution_count": 65,
      "outputs": [
        {
          "output_type": "execute_result",
          "data": {
            "image/svg+xml": "<?xml version=\"1.0\" encoding=\"UTF-8\" standalone=\"no\"?>\n<!DOCTYPE svg PUBLIC \"-//W3C//DTD SVG 1.1//EN\"\n \"http://www.w3.org/Graphics/SVG/1.1/DTD/svg11.dtd\">\n<!-- Generated by graphviz version 2.43.0 (0)\n -->\n<!-- Title: %3 Pages: 1 -->\n<svg width=\"1148pt\" height=\"154pt\"\n viewBox=\"0.00 0.00 1148.00 154.00\" xmlns=\"http://www.w3.org/2000/svg\" xmlns:xlink=\"http://www.w3.org/1999/xlink\">\n<g id=\"graph0\" class=\"graph\" transform=\"scale(1 1) rotate(0) translate(4 150)\">\n<title>%3</title>\n<polygon fill=\"white\" stroke=\"transparent\" points=\"-4,4 -4,-150 1144,-150 1144,4 -4,4\"/>\n<!-- 132559633120768 -->\n<g id=\"node1\" class=\"node\">\n<title>132559633120768</title>\n<polygon fill=\"none\" stroke=\"black\" points=\"317,-27.5 317,-63.5 507,-63.5 507,-27.5 317,-27.5\"/>\n<text text-anchor=\"middle\" x=\"328.5\" y=\"-41.8\" font-family=\"Times,serif\" font-size=\"14.00\">e</text>\n<polyline fill=\"none\" stroke=\"black\" points=\"340,-27.5 340,-63.5 \"/>\n<text text-anchor=\"middle\" x=\"382.5\" y=\"-41.8\" font-family=\"Times,serif\" font-size=\"14.00\">data &#45;6.0000</text>\n<polyline fill=\"none\" stroke=\"black\" points=\"425,-27.5 425,-63.5 \"/>\n<text text-anchor=\"middle\" x=\"466\" y=\"-41.8\" font-family=\"Times,serif\" font-size=\"14.00\">grad 0.0000</text>\n</g>\n<!-- 132559633115200+ -->\n<g id=\"node5\" class=\"node\">\n<title>132559633115200+</title>\n<ellipse fill=\"none\" stroke=\"black\" cx=\"571\" cy=\"-72.5\" rx=\"27\" ry=\"18\"/>\n<text text-anchor=\"middle\" x=\"571\" y=\"-68.8\" font-family=\"Times,serif\" font-size=\"14.00\">+</text>\n</g>\n<!-- 132559633120768&#45;&gt;132559633115200+ -->\n<g id=\"edge7\" class=\"edge\">\n<title>132559633120768&#45;&gt;132559633115200+</title>\n<path fill=\"none\" stroke=\"black\" d=\"M507.05,-61.67C516.78,-63.35 526.18,-64.96 534.62,-66.42\"/>\n<polygon fill=\"black\" stroke=\"black\" points=\"534.3,-69.91 544.75,-68.16 535.49,-63.01 534.3,-69.91\"/>\n</g>\n<!-- 132559633120768* -->\n<g id=\"node2\" class=\"node\">\n<title>132559633120768*</title>\n<ellipse fill=\"none\" stroke=\"black\" cx=\"253\" cy=\"-45.5\" rx=\"27\" ry=\"18\"/>\n<text text-anchor=\"middle\" x=\"253\" y=\"-41.8\" font-family=\"Times,serif\" font-size=\"14.00\">*</text>\n</g>\n<!-- 132559633120768*&#45;&gt;132559633120768 -->\n<g id=\"edge1\" class=\"edge\">\n<title>132559633120768*&#45;&gt;132559633120768</title>\n<path fill=\"none\" stroke=\"black\" d=\"M280.28,-45.5C288.05,-45.5 297.08,-45.5 306.68,-45.5\"/>\n<polygon fill=\"black\" stroke=\"black\" points=\"306.88,-49 316.88,-45.5 306.88,-42 306.88,-49\"/>\n</g>\n<!-- 132559633113664 -->\n<g id=\"node3\" class=\"node\">\n<title>132559633113664</title>\n<polygon fill=\"none\" stroke=\"black\" points=\"2.5,-55.5 2.5,-91.5 187.5,-91.5 187.5,-55.5 2.5,-55.5\"/>\n<text text-anchor=\"middle\" x=\"14\" y=\"-69.8\" font-family=\"Times,serif\" font-size=\"14.00\">a</text>\n<polyline fill=\"none\" stroke=\"black\" points=\"25.5,-55.5 25.5,-91.5 \"/>\n<text text-anchor=\"middle\" x=\"65.5\" y=\"-69.8\" font-family=\"Times,serif\" font-size=\"14.00\">data 2.0000</text>\n<polyline fill=\"none\" stroke=\"black\" points=\"105.5,-55.5 105.5,-91.5 \"/>\n<text text-anchor=\"middle\" x=\"146.5\" y=\"-69.8\" font-family=\"Times,serif\" font-size=\"14.00\">grad 0.0000</text>\n</g>\n<!-- 132559633113664&#45;&gt;132559633120768* -->\n<g id=\"edge4\" class=\"edge\">\n<title>132559633113664&#45;&gt;132559633120768*</title>\n<path fill=\"none\" stroke=\"black\" d=\"M187.65,-57.05C197.94,-55.2 207.91,-53.41 216.81,-51.82\"/>\n<polygon fill=\"black\" stroke=\"black\" points=\"217.48,-55.25 226.71,-50.04 216.25,-48.36 217.48,-55.25\"/>\n</g>\n<!-- 132559633115200 -->\n<g id=\"node4\" class=\"node\">\n<title>132559633115200</title>\n<polygon fill=\"none\" stroke=\"black\" points=\"635.5,-54.5 635.5,-90.5 820.5,-90.5 820.5,-54.5 635.5,-54.5\"/>\n<text text-anchor=\"middle\" x=\"647\" y=\"-68.8\" font-family=\"Times,serif\" font-size=\"14.00\">d</text>\n<polyline fill=\"none\" stroke=\"black\" points=\"658.5,-54.5 658.5,-90.5 \"/>\n<text text-anchor=\"middle\" x=\"698.5\" y=\"-68.8\" font-family=\"Times,serif\" font-size=\"14.00\">data 4.0000</text>\n<polyline fill=\"none\" stroke=\"black\" points=\"738.5,-54.5 738.5,-90.5 \"/>\n<text text-anchor=\"middle\" x=\"779.5\" y=\"-68.8\" font-family=\"Times,serif\" font-size=\"14.00\">grad 0.0000</text>\n</g>\n<!-- 132559633115392* -->\n<g id=\"node10\" class=\"node\">\n<title>132559633115392*</title>\n<ellipse fill=\"none\" stroke=\"black\" cx=\"885\" cy=\"-99.5\" rx=\"27\" ry=\"18\"/>\n<text text-anchor=\"middle\" x=\"885\" y=\"-95.8\" font-family=\"Times,serif\" font-size=\"14.00\">*</text>\n</g>\n<!-- 132559633115200&#45;&gt;132559633115392* -->\n<g id=\"edge8\" class=\"edge\">\n<title>132559633115200&#45;&gt;132559633115392*</title>\n<path fill=\"none\" stroke=\"black\" d=\"M820.51,-88.44C830.48,-90.18 840.13,-91.86 848.77,-93.36\"/>\n<polygon fill=\"black\" stroke=\"black\" points=\"848.31,-96.84 858.77,-95.1 849.52,-89.94 848.31,-96.84\"/>\n</g>\n<!-- 132559633115200+&#45;&gt;132559633115200 -->\n<g id=\"edge2\" class=\"edge\">\n<title>132559633115200+&#45;&gt;132559633115200</title>\n<path fill=\"none\" stroke=\"black\" d=\"M598.29,-72.5C606.26,-72.5 615.54,-72.5 625.39,-72.5\"/>\n<polygon fill=\"black\" stroke=\"black\" points=\"625.41,-76 635.41,-72.5 625.41,-69 625.41,-76\"/>\n</g>\n<!-- 132559634481760 -->\n<g id=\"node6\" class=\"node\">\n<title>132559634481760</title>\n<polygon fill=\"none\" stroke=\"black\" points=\"634,-109.5 634,-145.5 822,-145.5 822,-109.5 634,-109.5\"/>\n<text text-anchor=\"middle\" x=\"644.5\" y=\"-123.8\" font-family=\"Times,serif\" font-size=\"14.00\">f</text>\n<polyline fill=\"none\" stroke=\"black\" points=\"655,-109.5 655,-145.5 \"/>\n<text text-anchor=\"middle\" x=\"697.5\" y=\"-123.8\" font-family=\"Times,serif\" font-size=\"14.00\">data &#45;2.0000</text>\n<polyline fill=\"none\" stroke=\"black\" points=\"740,-109.5 740,-145.5 \"/>\n<text text-anchor=\"middle\" x=\"781\" y=\"-123.8\" font-family=\"Times,serif\" font-size=\"14.00\">grad 0.0000</text>\n</g>\n<!-- 132559634481760&#45;&gt;132559633115392* -->\n<g id=\"edge5\" class=\"edge\">\n<title>132559634481760&#45;&gt;132559633115392*</title>\n<path fill=\"none\" stroke=\"black\" d=\"M822.29,-110.65C831.57,-108.97 840.52,-107.35 848.61,-105.89\"/>\n<polygon fill=\"black\" stroke=\"black\" points=\"849.46,-109.3 858.68,-104.07 848.21,-102.41 849.46,-109.3\"/>\n</g>\n<!-- 132559633120432 -->\n<g id=\"node7\" class=\"node\">\n<title>132559633120432</title>\n<polygon fill=\"none\" stroke=\"black\" points=\"0,-0.5 0,-36.5 190,-36.5 190,-0.5 0,-0.5\"/>\n<text text-anchor=\"middle\" x=\"11.5\" y=\"-14.8\" font-family=\"Times,serif\" font-size=\"14.00\">b</text>\n<polyline fill=\"none\" stroke=\"black\" points=\"23,-0.5 23,-36.5 \"/>\n<text text-anchor=\"middle\" x=\"65.5\" y=\"-14.8\" font-family=\"Times,serif\" font-size=\"14.00\">data &#45;3.0000</text>\n<polyline fill=\"none\" stroke=\"black\" points=\"108,-0.5 108,-36.5 \"/>\n<text text-anchor=\"middle\" x=\"149\" y=\"-14.8\" font-family=\"Times,serif\" font-size=\"14.00\">grad 0.0000</text>\n</g>\n<!-- 132559633120432&#45;&gt;132559633120768* -->\n<g id=\"edge6\" class=\"edge\">\n<title>132559633120432&#45;&gt;132559633120768*</title>\n<path fill=\"none\" stroke=\"black\" d=\"M190.34,-34.83C199.62,-36.44 208.58,-37.99 216.66,-39.38\"/>\n<polygon fill=\"black\" stroke=\"black\" points=\"216.27,-42.87 226.72,-41.12 217.46,-35.97 216.27,-42.87\"/>\n</g>\n<!-- 132559633116880 -->\n<g id=\"node8\" class=\"node\">\n<title>132559633116880</title>\n<polygon fill=\"none\" stroke=\"black\" points=\"316,-82.5 316,-118.5 508,-118.5 508,-82.5 316,-82.5\"/>\n<text text-anchor=\"middle\" x=\"327.5\" y=\"-96.8\" font-family=\"Times,serif\" font-size=\"14.00\">c</text>\n<polyline fill=\"none\" stroke=\"black\" points=\"339,-82.5 339,-118.5 \"/>\n<text text-anchor=\"middle\" x=\"382.5\" y=\"-96.8\" font-family=\"Times,serif\" font-size=\"14.00\">data 10.0000</text>\n<polyline fill=\"none\" stroke=\"black\" points=\"426,-82.5 426,-118.5 \"/>\n<text text-anchor=\"middle\" x=\"467\" y=\"-96.8\" font-family=\"Times,serif\" font-size=\"14.00\">grad 0.0000</text>\n</g>\n<!-- 132559633116880&#45;&gt;132559633115200+ -->\n<g id=\"edge9\" class=\"edge\">\n<title>132559633116880&#45;&gt;132559633115200+</title>\n<path fill=\"none\" stroke=\"black\" d=\"M508.4,-83.49C517.69,-81.83 526.64,-80.23 534.71,-78.79\"/>\n<polygon fill=\"black\" stroke=\"black\" points=\"535.53,-82.2 544.76,-77 534.31,-75.31 535.53,-82.2\"/>\n</g>\n<!-- 132559633115392 -->\n<g id=\"node9\" class=\"node\">\n<title>132559633115392</title>\n<polygon fill=\"none\" stroke=\"black\" points=\"948,-81.5 948,-117.5 1140,-117.5 1140,-81.5 948,-81.5\"/>\n<text text-anchor=\"middle\" x=\"960.5\" y=\"-95.8\" font-family=\"Times,serif\" font-size=\"14.00\">L</text>\n<polyline fill=\"none\" stroke=\"black\" points=\"973,-81.5 973,-117.5 \"/>\n<text text-anchor=\"middle\" x=\"1015.5\" y=\"-95.8\" font-family=\"Times,serif\" font-size=\"14.00\">data &#45;8.0000</text>\n<polyline fill=\"none\" stroke=\"black\" points=\"1058,-81.5 1058,-117.5 \"/>\n<text text-anchor=\"middle\" x=\"1099\" y=\"-95.8\" font-family=\"Times,serif\" font-size=\"14.00\">grad 1.0000</text>\n</g>\n<!-- 132559633115392*&#45;&gt;132559633115392 -->\n<g id=\"edge3\" class=\"edge\">\n<title>132559633115392*&#45;&gt;132559633115392</title>\n<path fill=\"none\" stroke=\"black\" d=\"M912.28,-99.5C919.78,-99.5 928.44,-99.5 937.67,-99.5\"/>\n<polygon fill=\"black\" stroke=\"black\" points=\"937.87,-103 947.87,-99.5 937.87,-96 937.87,-103\"/>\n</g>\n</g>\n</svg>\n",
            "text/plain": [
              "<graphviz.graphs.Digraph at 0x788ff1d7e2a0>"
            ]
          },
          "metadata": {},
          "execution_count": 65
        }
      ]
    },
    {
      "cell_type": "code",
      "source": [
        "L.grad = 1.0"
      ],
      "metadata": {
        "id": "AtGmm2Yva-2X"
      },
      "execution_count": 64,
      "outputs": []
    },
    {
      "cell_type": "code",
      "source": [
        "def lol():\n",
        "  h = 0.001\n",
        "  a = Value(2.0, label = 'a')\n",
        "  b = Value(-3.0, label = 'b')\n",
        "  c = Value(10.0, label = 'c')\n",
        "  e = a*b; e.label = 'e';\n",
        "  d = e + c; d.label = 'd'\n",
        "  f = Value(-2.0, label = 'f')\n",
        "  L = d * f; L.label = 'L'\n",
        "  L1 = L.data;\n",
        "\n",
        "  a = Value(2.0 + h, label = 'a')\n",
        "  b = Value(-3.0, label = 'b')\n",
        "  c = Value(10.0, label = 'c')\n",
        "  e = a*b; e.label = 'e';\n",
        "  d = e + c; d.label = 'd'\n",
        "  f = Value(-2.0, label = 'f')\n",
        "  L = d * f; L.label = 'L'\n",
        "  L2 = L.data;\n",
        "  print((L2 - L1)/h);\n",
        "\n",
        "lol();"
      ],
      "metadata": {
        "colab": {
          "base_uri": "https://localhost:8080/"
        },
        "id": "TuJ9jA64aNKH",
        "outputId": "976aacc9-6298-449a-94f6-516c7b4b3357"
      },
      "execution_count": 63,
      "outputs": [
        {
          "output_type": "stream",
          "name": "stdout",
          "text": [
            "6.000000000000227\n"
          ]
        }
      ]
    },
    {
      "cell_type": "code",
      "source": [
        "#single neuron with weights w1, w2 and inputs x1, x2\n",
        "x1 = Value(2.0, label = 'x1')\n",
        "x2 = Value(0.0, label = 'x2')\n",
        "w1 = Value(-3.0, label = 'w1')\n",
        "w2 = Value(1.0, label = 'w2')\n",
        "#bias of the neuron\n",
        "b = Value(6.88137, label = 'b')\n",
        "x1w1 = x1*w1; x1w1.label = 'x1w1'\n",
        "x2w2 = x2*w2; x2w2.label = 'x2w2'\n",
        "x1w1x2w2 = x1w1 + x2w2; x1w1x2w2.label = 'x1w1 + x2w2'\n",
        "n = x1w1x2w2 + b; n.label = 'n'\n",
        "\n",
        "e = (2*n).exp()\n",
        "o = (e - 1) / (e + 1);\n",
        "o.label = 'o'\n",
        "o.backward();"
      ],
      "metadata": {
        "id": "ynHrL-kia_Vo"
      },
      "execution_count": 29,
      "outputs": []
    },
    {
      "cell_type": "code",
      "source": [
        "#DFS based topological sort on the graph starting at the output node,\n",
        "#only works on DAGs, but given in task graphs\n",
        "draw_dot(o)"
      ],
      "metadata": {
        "colab": {
          "base_uri": "https://localhost:8080/",
          "height": 321
        },
        "id": "9zgAm-CaKakw",
        "outputId": "61bbca43-547c-4872-8215-e30a502f428c"
      },
      "execution_count": 30,
      "outputs": [
        {
          "output_type": "execute_result",
          "data": {
            "image/svg+xml": "<?xml version=\"1.0\" encoding=\"UTF-8\" standalone=\"no\"?>\n<!DOCTYPE svg PUBLIC \"-//W3C//DTD SVG 1.1//EN\"\n \"http://www.w3.org/Graphics/SVG/1.1/DTD/svg11.dtd\">\n<!-- Generated by graphviz version 2.43.0 (0)\n -->\n<!-- Title: %3 Pages: 1 -->\n<svg width=\"3014pt\" height=\"210pt\"\n viewBox=\"0.00 0.00 3014.00 210.00\" xmlns=\"http://www.w3.org/2000/svg\" xmlns:xlink=\"http://www.w3.org/1999/xlink\">\n<g id=\"graph0\" class=\"graph\" transform=\"scale(1 1) rotate(0) translate(4 206)\">\n<title>%3</title>\n<polygon fill=\"white\" stroke=\"transparent\" points=\"-4,4 -4,-206 3010,-206 3010,4 -4,4\"/>\n<!-- 132745389069888 -->\n<g id=\"node1\" class=\"node\">\n<title>132745389069888</title>\n<polygon fill=\"none\" stroke=\"black\" points=\"2470,-57.5 2470,-93.5 2695,-93.5 2695,-57.5 2470,-57.5\"/>\n<text text-anchor=\"middle\" x=\"2501.5\" y=\"-71.8\" font-family=\"Times,serif\" font-size=\"14.00\">exp + &#45;1</text>\n<polyline fill=\"none\" stroke=\"black\" points=\"2533,-57.5 2533,-93.5 \"/>\n<text text-anchor=\"middle\" x=\"2573\" y=\"-71.8\" font-family=\"Times,serif\" font-size=\"14.00\">data 0.1464</text>\n<polyline fill=\"none\" stroke=\"black\" points=\"2613,-57.5 2613,-93.5 \"/>\n<text text-anchor=\"middle\" x=\"2654\" y=\"-71.8\" font-family=\"Times,serif\" font-size=\"14.00\">grad 4.8284</text>\n</g>\n<!-- 132745389070176* -->\n<g id=\"node21\" class=\"node\">\n<title>132745389070176*</title>\n<ellipse fill=\"none\" stroke=\"black\" cx=\"2758\" cy=\"-98.5\" rx=\"27\" ry=\"18\"/>\n<text text-anchor=\"middle\" x=\"2758\" y=\"-94.8\" font-family=\"Times,serif\" font-size=\"14.00\">*</text>\n</g>\n<!-- 132745389069888&#45;&gt;132745389070176* -->\n<g id=\"edge24\" class=\"edge\">\n<title>132745389069888&#45;&gt;132745389070176*</title>\n<path fill=\"none\" stroke=\"black\" d=\"M2695.34,-90.33C2704.64,-91.56 2713.52,-92.74 2721.5,-93.79\"/>\n<polygon fill=\"black\" stroke=\"black\" points=\"2721.06,-97.27 2731.43,-95.11 2721.98,-90.33 2721.06,-97.27\"/>\n</g>\n<!-- 132745389069888**&#45;1 -->\n<g id=\"node2\" class=\"node\">\n<title>132745389069888**&#45;1</title>\n<ellipse fill=\"none\" stroke=\"black\" cx=\"2335\" cy=\"-71.5\" rx=\"27\" ry=\"18\"/>\n<text text-anchor=\"middle\" x=\"2335\" y=\"-67.8\" font-family=\"Times,serif\" font-size=\"14.00\">**&#45;1</text>\n</g>\n<!-- 132745389069888**&#45;1&#45;&gt;132745389069888 -->\n<g id=\"edge1\" class=\"edge\">\n<title>132745389069888**&#45;1&#45;&gt;132745389069888</title>\n<path fill=\"none\" stroke=\"black\" d=\"M2362.27,-71.93C2386.02,-72.31 2422.77,-72.91 2459.44,-73.51\"/>\n<polygon fill=\"black\" stroke=\"black\" points=\"2459.72,-77.02 2469.77,-73.68 2459.83,-70.02 2459.72,-77.02\"/>\n</g>\n<!-- 132745389073488 -->\n<g id=\"node3\" class=\"node\">\n<title>132745389073488</title>\n<polygon fill=\"none\" stroke=\"black\" points=\"1051,-109.5 1051,-145.5 1236,-145.5 1236,-109.5 1051,-109.5\"/>\n<text text-anchor=\"middle\" x=\"1062.5\" y=\"-123.8\" font-family=\"Times,serif\" font-size=\"14.00\">n</text>\n<polyline fill=\"none\" stroke=\"black\" points=\"1074,-109.5 1074,-145.5 \"/>\n<text text-anchor=\"middle\" x=\"1114\" y=\"-123.8\" font-family=\"Times,serif\" font-size=\"14.00\">data 0.8814</text>\n<polyline fill=\"none\" stroke=\"black\" points=\"1154,-109.5 1154,-145.5 \"/>\n<text text-anchor=\"middle\" x=\"1195\" y=\"-123.8\" font-family=\"Times,serif\" font-size=\"14.00\">grad 0.5000</text>\n</g>\n<!-- 132745389073104* -->\n<g id=\"node11\" class=\"node\">\n<title>132745389073104*</title>\n<ellipse fill=\"none\" stroke=\"black\" cx=\"1299\" cy=\"-99.5\" rx=\"27\" ry=\"18\"/>\n<text text-anchor=\"middle\" x=\"1299\" y=\"-95.8\" font-family=\"Times,serif\" font-size=\"14.00\">*</text>\n</g>\n<!-- 132745389073488&#45;&gt;132745389073104* -->\n<g id=\"edge19\" class=\"edge\">\n<title>132745389073488&#45;&gt;132745389073104*</title>\n<path fill=\"none\" stroke=\"black\" d=\"M1236.01,-110.81C1245.49,-109.08 1254.66,-107.41 1262.9,-105.9\"/>\n<polygon fill=\"black\" stroke=\"black\" points=\"1263.6,-109.33 1272.81,-104.09 1262.35,-102.45 1263.6,-109.33\"/>\n</g>\n<!-- 132745389073488+ -->\n<g id=\"node4\" class=\"node\">\n<title>132745389073488+</title>\n<ellipse fill=\"none\" stroke=\"black\" cx=\"988\" cy=\"-127.5\" rx=\"27\" ry=\"18\"/>\n<text text-anchor=\"middle\" x=\"988\" y=\"-123.8\" font-family=\"Times,serif\" font-size=\"14.00\">+</text>\n</g>\n<!-- 132745389073488+&#45;&gt;132745389073488 -->\n<g id=\"edge2\" class=\"edge\">\n<title>132745389073488+&#45;&gt;132745389073488</title>\n<path fill=\"none\" stroke=\"black\" d=\"M1015.04,-127.5C1022.58,-127.5 1031.3,-127.5 1040.57,-127.5\"/>\n<polygon fill=\"black\" stroke=\"black\" points=\"1040.81,-131 1050.81,-127.5 1040.81,-124 1040.81,-131\"/>\n</g>\n<!-- 132745389072816 -->\n<g id=\"node5\" class=\"node\">\n<title>132745389072816</title>\n<polygon fill=\"none\" stroke=\"black\" points=\"1685.5,-26.5 1685.5,-62.5 1871.5,-62.5 1871.5,-26.5 1685.5,-26.5\"/>\n<text text-anchor=\"middle\" x=\"1695.5\" y=\"-40.8\" font-family=\"Times,serif\" font-size=\"14.00\"> </text>\n<polyline fill=\"none\" stroke=\"black\" points=\"1705.5,-26.5 1705.5,-62.5 \"/>\n<text text-anchor=\"middle\" x=\"1745.5\" y=\"-40.8\" font-family=\"Times,serif\" font-size=\"14.00\">data 1.0000</text>\n<polyline fill=\"none\" stroke=\"black\" points=\"1785.5,-26.5 1785.5,-62.5 \"/>\n<text text-anchor=\"middle\" x=\"1828.5\" y=\"-40.8\" font-family=\"Times,serif\" font-size=\"14.00\">grad &#45;0.1036</text>\n</g>\n<!-- 132745389069936+ -->\n<g id=\"node7\" class=\"node\">\n<title>132745389069936+</title>\n<ellipse fill=\"none\" stroke=\"black\" cx=\"1935\" cy=\"-71.5\" rx=\"27\" ry=\"18\"/>\n<text text-anchor=\"middle\" x=\"1935\" y=\"-67.8\" font-family=\"Times,serif\" font-size=\"14.00\">+</text>\n</g>\n<!-- 132745389072816&#45;&gt;132745389069936+ -->\n<g id=\"edge16\" class=\"edge\">\n<title>132745389072816&#45;&gt;132745389069936+</title>\n<path fill=\"none\" stroke=\"black\" d=\"M1871.6,-60.6C1881.15,-62.26 1890.37,-63.88 1898.68,-65.33\"/>\n<polygon fill=\"black\" stroke=\"black\" points=\"1898.2,-68.8 1908.65,-67.07 1899.4,-61.9 1898.2,-68.8\"/>\n</g>\n<!-- 132745389069936 -->\n<g id=\"node6\" class=\"node\">\n<title>132745389069936</title>\n<polygon fill=\"none\" stroke=\"black\" points=\"1998,-53.5 1998,-89.5 2200,-89.5 2200,-53.5 1998,-53.5\"/>\n<text text-anchor=\"middle\" x=\"2016\" y=\"-67.8\" font-family=\"Times,serif\" font-size=\"14.00\">exp</text>\n<polyline fill=\"none\" stroke=\"black\" points=\"2034,-53.5 2034,-89.5 \"/>\n<text text-anchor=\"middle\" x=\"2074\" y=\"-67.8\" font-family=\"Times,serif\" font-size=\"14.00\">data 6.8284</text>\n<polyline fill=\"none\" stroke=\"black\" points=\"2114,-53.5 2114,-89.5 \"/>\n<text text-anchor=\"middle\" x=\"2157\" y=\"-67.8\" font-family=\"Times,serif\" font-size=\"14.00\">grad &#45;0.1036</text>\n</g>\n<!-- 132745389069936&#45;&gt;132745389069888**&#45;1 -->\n<g id=\"edge25\" class=\"edge\">\n<title>132745389069936&#45;&gt;132745389069888**&#45;1</title>\n<path fill=\"none\" stroke=\"black\" d=\"M2200.26,-71.5C2234.93,-71.5 2271.6,-71.5 2297.76,-71.5\"/>\n<polygon fill=\"black\" stroke=\"black\" points=\"2297.94,-75 2307.94,-71.5 2297.94,-68 2297.94,-75\"/>\n</g>\n<!-- 132745389069936+&#45;&gt;132745389069936 -->\n<g id=\"edge3\" class=\"edge\">\n<title>132745389069936+&#45;&gt;132745389069936</title>\n<path fill=\"none\" stroke=\"black\" d=\"M1962.03,-71.5C1969.52,-71.5 1978.19,-71.5 1987.46,-71.5\"/>\n<polygon fill=\"black\" stroke=\"black\" points=\"1987.73,-75 1997.73,-71.5 1987.73,-68 1987.73,-75\"/>\n</g>\n<!-- 132745389073584 -->\n<g id=\"node8\" class=\"node\">\n<title>132745389073584</title>\n<polygon fill=\"none\" stroke=\"black\" points=\"2.5,-55.5 2.5,-91.5 197.5,-91.5 197.5,-55.5 2.5,-55.5\"/>\n<text text-anchor=\"middle\" x=\"19\" y=\"-69.8\" font-family=\"Times,serif\" font-size=\"14.00\">w2</text>\n<polyline fill=\"none\" stroke=\"black\" points=\"35.5,-55.5 35.5,-91.5 \"/>\n<text text-anchor=\"middle\" x=\"75.5\" y=\"-69.8\" font-family=\"Times,serif\" font-size=\"14.00\">data 1.0000</text>\n<polyline fill=\"none\" stroke=\"black\" points=\"115.5,-55.5 115.5,-91.5 \"/>\n<text text-anchor=\"middle\" x=\"156.5\" y=\"-69.8\" font-family=\"Times,serif\" font-size=\"14.00\">grad 0.0000</text>\n</g>\n<!-- 132745389071280* -->\n<g id=\"node19\" class=\"node\">\n<title>132745389071280*</title>\n<ellipse fill=\"none\" stroke=\"black\" cx=\"263\" cy=\"-73.5\" rx=\"27\" ry=\"18\"/>\n<text text-anchor=\"middle\" x=\"263\" y=\"-69.8\" font-family=\"Times,serif\" font-size=\"14.00\">*</text>\n</g>\n<!-- 132745389073584&#45;&gt;132745389071280* -->\n<g id=\"edge27\" class=\"edge\">\n<title>132745389073584&#45;&gt;132745389071280*</title>\n<path fill=\"none\" stroke=\"black\" d=\"M197.91,-73.5C207.65,-73.5 217.05,-73.5 225.52,-73.5\"/>\n<polygon fill=\"black\" stroke=\"black\" points=\"225.7,-77 235.7,-73.5 225.7,-70 225.7,-77\"/>\n</g>\n<!-- 132745389069216 -->\n<g id=\"node9\" class=\"node\">\n<title>132745389069216</title>\n<polygon fill=\"none\" stroke=\"black\" points=\"1685,-136.5 1685,-172.5 1872,-172.5 1872,-136.5 1685,-136.5\"/>\n<text text-anchor=\"middle\" x=\"1695\" y=\"-150.8\" font-family=\"Times,serif\" font-size=\"14.00\"> </text>\n<polyline fill=\"none\" stroke=\"black\" points=\"1705,-136.5 1705,-172.5 \"/>\n<text text-anchor=\"middle\" x=\"1747.5\" y=\"-150.8\" font-family=\"Times,serif\" font-size=\"14.00\">data &#45;1.0000</text>\n<polyline fill=\"none\" stroke=\"black\" points=\"1790,-136.5 1790,-172.5 \"/>\n<text text-anchor=\"middle\" x=\"1831\" y=\"-150.8\" font-family=\"Times,serif\" font-size=\"14.00\">grad 0.1464</text>\n</g>\n<!-- 132745389069696+ -->\n<g id=\"node25\" class=\"node\">\n<title>132745389069696+</title>\n<ellipse fill=\"none\" stroke=\"black\" cx=\"1935\" cy=\"-126.5\" rx=\"27\" ry=\"18\"/>\n<text text-anchor=\"middle\" x=\"1935\" y=\"-122.8\" font-family=\"Times,serif\" font-size=\"14.00\">+</text>\n</g>\n<!-- 132745389069216&#45;&gt;132745389069696+ -->\n<g id=\"edge26\" class=\"edge\">\n<title>132745389069216&#45;&gt;132745389069696+</title>\n<path fill=\"none\" stroke=\"black\" d=\"M1872.05,-137.73C1881.54,-136.01 1890.71,-134.35 1898.95,-132.85\"/>\n<polygon fill=\"black\" stroke=\"black\" points=\"1899.64,-136.28 1908.85,-131.06 1898.39,-129.4 1899.64,-136.28\"/>\n</g>\n<!-- 132745389073104 -->\n<g id=\"node10\" class=\"node\">\n<title>132745389073104</title>\n<polygon fill=\"none\" stroke=\"black\" points=\"1362,-81.5 1362,-117.5 1559,-117.5 1559,-81.5 1362,-81.5\"/>\n<text text-anchor=\"middle\" x=\"1379.5\" y=\"-95.8\" font-family=\"Times,serif\" font-size=\"14.00\">n +</text>\n<polyline fill=\"none\" stroke=\"black\" points=\"1397,-81.5 1397,-117.5 \"/>\n<text text-anchor=\"middle\" x=\"1437\" y=\"-95.8\" font-family=\"Times,serif\" font-size=\"14.00\">data 1.7627</text>\n<polyline fill=\"none\" stroke=\"black\" points=\"1477,-81.5 1477,-117.5 \"/>\n<text text-anchor=\"middle\" x=\"1518\" y=\"-95.8\" font-family=\"Times,serif\" font-size=\"14.00\">grad 0.2500</text>\n</g>\n<!-- 132745389070608exp -->\n<g id=\"node13\" class=\"node\">\n<title>132745389070608exp</title>\n<ellipse fill=\"none\" stroke=\"black\" cx=\"1622\" cy=\"-99.5\" rx=\"27\" ry=\"18\"/>\n<text text-anchor=\"middle\" x=\"1622\" y=\"-95.8\" font-family=\"Times,serif\" font-size=\"14.00\">exp</text>\n</g>\n<!-- 132745389073104&#45;&gt;132745389070608exp -->\n<g id=\"edge17\" class=\"edge\">\n<title>132745389073104&#45;&gt;132745389070608exp</title>\n<path fill=\"none\" stroke=\"black\" d=\"M1559.33,-99.5C1568.29,-99.5 1576.92,-99.5 1584.75,-99.5\"/>\n<polygon fill=\"black\" stroke=\"black\" points=\"1584.88,-103 1594.88,-99.5 1584.88,-96 1584.88,-103\"/>\n</g>\n<!-- 132745389073104*&#45;&gt;132745389073104 -->\n<g id=\"edge4\" class=\"edge\">\n<title>132745389073104*&#45;&gt;132745389073104</title>\n<path fill=\"none\" stroke=\"black\" d=\"M1326.34,-99.5C1333.81,-99.5 1342.44,-99.5 1351.64,-99.5\"/>\n<polygon fill=\"black\" stroke=\"black\" points=\"1351.83,-103 1361.83,-99.5 1351.83,-96 1351.83,-103\"/>\n</g>\n<!-- 132745389070608 -->\n<g id=\"node12\" class=\"node\">\n<title>132745389070608</title>\n<polygon fill=\"none\" stroke=\"black\" points=\"1687.5,-81.5 1687.5,-117.5 1869.5,-117.5 1869.5,-81.5 1687.5,-81.5\"/>\n<text text-anchor=\"middle\" x=\"1697.5\" y=\"-95.8\" font-family=\"Times,serif\" font-size=\"14.00\"> </text>\n<polyline fill=\"none\" stroke=\"black\" points=\"1707.5,-81.5 1707.5,-117.5 \"/>\n<text text-anchor=\"middle\" x=\"1747.5\" y=\"-95.8\" font-family=\"Times,serif\" font-size=\"14.00\">data 5.8284</text>\n<polyline fill=\"none\" stroke=\"black\" points=\"1787.5,-81.5 1787.5,-117.5 \"/>\n<text text-anchor=\"middle\" x=\"1828.5\" y=\"-95.8\" font-family=\"Times,serif\" font-size=\"14.00\">grad 0.0429</text>\n</g>\n<!-- 132745389070608&#45;&gt;132745389069936+ -->\n<g id=\"edge11\" class=\"edge\">\n<title>132745389070608&#45;&gt;132745389069936+</title>\n<path fill=\"none\" stroke=\"black\" d=\"M1869.82,-83.13C1880.07,-81.27 1890.01,-79.47 1898.88,-77.87\"/>\n<polygon fill=\"black\" stroke=\"black\" points=\"1899.54,-81.3 1908.75,-76.08 1898.29,-74.42 1899.54,-81.3\"/>\n</g>\n<!-- 132745389070608&#45;&gt;132745389069696+ -->\n<g id=\"edge21\" class=\"edge\">\n<title>132745389070608&#45;&gt;132745389069696+</title>\n<path fill=\"none\" stroke=\"black\" d=\"M1869.82,-115.28C1880.07,-117.08 1890.01,-118.81 1898.88,-120.36\"/>\n<polygon fill=\"black\" stroke=\"black\" points=\"1898.3,-123.81 1908.75,-122.09 1899.5,-116.92 1898.3,-123.81\"/>\n</g>\n<!-- 132745389070608exp&#45;&gt;132745389070608 -->\n<g id=\"edge5\" class=\"edge\">\n<title>132745389070608exp&#45;&gt;132745389070608</title>\n<path fill=\"none\" stroke=\"black\" d=\"M1649.21,-99.5C1657.34,-99.5 1666.85,-99.5 1676.94,-99.5\"/>\n<polygon fill=\"black\" stroke=\"black\" points=\"1677.19,-103 1687.19,-99.5 1677.19,-96 1677.19,-103\"/>\n</g>\n<!-- 132745389073680 -->\n<g id=\"node14\" class=\"node\">\n<title>132745389073680</title>\n<polygon fill=\"none\" stroke=\"black\" points=\"326,-110.5 326,-146.5 540,-146.5 540,-110.5 326,-110.5\"/>\n<text text-anchor=\"middle\" x=\"349.5\" y=\"-124.8\" font-family=\"Times,serif\" font-size=\"14.00\">x1w1</text>\n<polyline fill=\"none\" stroke=\"black\" points=\"373,-110.5 373,-146.5 \"/>\n<text text-anchor=\"middle\" x=\"415.5\" y=\"-124.8\" font-family=\"Times,serif\" font-size=\"14.00\">data &#45;6.0000</text>\n<polyline fill=\"none\" stroke=\"black\" points=\"458,-110.5 458,-146.5 \"/>\n<text text-anchor=\"middle\" x=\"499\" y=\"-124.8\" font-family=\"Times,serif\" font-size=\"14.00\">grad 0.5000</text>\n</g>\n<!-- 132745389073776+ -->\n<g id=\"node23\" class=\"node\">\n<title>132745389073776+</title>\n<ellipse fill=\"none\" stroke=\"black\" cx=\"603\" cy=\"-100.5\" rx=\"27\" ry=\"18\"/>\n<text text-anchor=\"middle\" x=\"603\" y=\"-96.8\" font-family=\"Times,serif\" font-size=\"14.00\">+</text>\n</g>\n<!-- 132745389073680&#45;&gt;132745389073776+ -->\n<g id=\"edge28\" class=\"edge\">\n<title>132745389073680&#45;&gt;132745389073776+</title>\n<path fill=\"none\" stroke=\"black\" d=\"M540.4,-110.77C549.72,-109.21 558.65,-107.72 566.68,-106.39\"/>\n<polygon fill=\"black\" stroke=\"black\" points=\"567.38,-109.82 576.66,-104.72 566.22,-102.91 567.38,-109.82\"/>\n</g>\n<!-- 132745389073680* -->\n<g id=\"node15\" class=\"node\">\n<title>132745389073680*</title>\n<ellipse fill=\"none\" stroke=\"black\" cx=\"263\" cy=\"-128.5\" rx=\"27\" ry=\"18\"/>\n<text text-anchor=\"middle\" x=\"263\" y=\"-124.8\" font-family=\"Times,serif\" font-size=\"14.00\">*</text>\n</g>\n<!-- 132745389073680*&#45;&gt;132745389073680 -->\n<g id=\"edge6\" class=\"edge\">\n<title>132745389073680*&#45;&gt;132745389073680</title>\n<path fill=\"none\" stroke=\"black\" d=\"M290.25,-128.5C297.7,-128.5 306.34,-128.5 315.59,-128.5\"/>\n<polygon fill=\"black\" stroke=\"black\" points=\"315.84,-132 325.84,-128.5 315.84,-125 315.84,-132\"/>\n</g>\n<!-- 132745389074736 -->\n<g id=\"node16\" class=\"node\">\n<title>132745389074736</title>\n<polygon fill=\"none\" stroke=\"black\" points=\"1052.5,-54.5 1052.5,-90.5 1234.5,-90.5 1234.5,-54.5 1052.5,-54.5\"/>\n<text text-anchor=\"middle\" x=\"1062.5\" y=\"-68.8\" font-family=\"Times,serif\" font-size=\"14.00\"> </text>\n<polyline fill=\"none\" stroke=\"black\" points=\"1072.5,-54.5 1072.5,-90.5 \"/>\n<text text-anchor=\"middle\" x=\"1112.5\" y=\"-68.8\" font-family=\"Times,serif\" font-size=\"14.00\">data 2.0000</text>\n<polyline fill=\"none\" stroke=\"black\" points=\"1152.5,-54.5 1152.5,-90.5 \"/>\n<text text-anchor=\"middle\" x=\"1193.5\" y=\"-68.8\" font-family=\"Times,serif\" font-size=\"14.00\">grad 0.2203</text>\n</g>\n<!-- 132745389074736&#45;&gt;132745389073104* -->\n<g id=\"edge20\" class=\"edge\">\n<title>132745389074736&#45;&gt;132745389073104*</title>\n<path fill=\"none\" stroke=\"black\" d=\"M1234.68,-88.36C1244.61,-90.11 1254.23,-91.8 1262.84,-93.32\"/>\n<polygon fill=\"black\" stroke=\"black\" points=\"1262.36,-96.78 1272.81,-95.07 1263.57,-89.89 1262.36,-96.78\"/>\n</g>\n<!-- 132745389069120 -->\n<g id=\"node17\" class=\"node\">\n<title>132745389069120</title>\n<polygon fill=\"none\" stroke=\"black\" points=\"703,-137.5 703,-173.5 888,-173.5 888,-137.5 703,-137.5\"/>\n<text text-anchor=\"middle\" x=\"714.5\" y=\"-151.8\" font-family=\"Times,serif\" font-size=\"14.00\">b</text>\n<polyline fill=\"none\" stroke=\"black\" points=\"726,-137.5 726,-173.5 \"/>\n<text text-anchor=\"middle\" x=\"766\" y=\"-151.8\" font-family=\"Times,serif\" font-size=\"14.00\">data 6.8814</text>\n<polyline fill=\"none\" stroke=\"black\" points=\"806,-137.5 806,-173.5 \"/>\n<text text-anchor=\"middle\" x=\"847\" y=\"-151.8\" font-family=\"Times,serif\" font-size=\"14.00\">grad 0.5000</text>\n</g>\n<!-- 132745389069120&#45;&gt;132745389073488+ -->\n<g id=\"edge12\" class=\"edge\">\n<title>132745389069120&#45;&gt;132745389073488+</title>\n<path fill=\"none\" stroke=\"black\" d=\"M888.12,-142.03C910.59,-138.73 933.33,-135.39 951.33,-132.74\"/>\n<polygon fill=\"black\" stroke=\"black\" points=\"951.96,-136.19 961.34,-131.27 950.94,-129.26 951.96,-136.19\"/>\n</g>\n<!-- 132745389071280 -->\n<g id=\"node18\" class=\"node\">\n<title>132745389071280</title>\n<polygon fill=\"none\" stroke=\"black\" points=\"328.5,-55.5 328.5,-91.5 537.5,-91.5 537.5,-55.5 328.5,-55.5\"/>\n<text text-anchor=\"middle\" x=\"352\" y=\"-69.8\" font-family=\"Times,serif\" font-size=\"14.00\">x2w2</text>\n<polyline fill=\"none\" stroke=\"black\" points=\"375.5,-55.5 375.5,-91.5 \"/>\n<text text-anchor=\"middle\" x=\"415.5\" y=\"-69.8\" font-family=\"Times,serif\" font-size=\"14.00\">data 0.0000</text>\n<polyline fill=\"none\" stroke=\"black\" points=\"455.5,-55.5 455.5,-91.5 \"/>\n<text text-anchor=\"middle\" x=\"496.5\" y=\"-69.8\" font-family=\"Times,serif\" font-size=\"14.00\">grad 0.5000</text>\n</g>\n<!-- 132745389071280&#45;&gt;132745389073776+ -->\n<g id=\"edge18\" class=\"edge\">\n<title>132745389071280&#45;&gt;132745389073776+</title>\n<path fill=\"none\" stroke=\"black\" d=\"M537.53,-90.14C547.8,-91.79 557.66,-93.37 566.45,-94.79\"/>\n<polygon fill=\"black\" stroke=\"black\" points=\"566.16,-98.28 576.59,-96.42 567.27,-91.37 566.16,-98.28\"/>\n</g>\n<!-- 132745389071280*&#45;&gt;132745389071280 -->\n<g id=\"edge7\" class=\"edge\">\n<title>132745389071280*&#45;&gt;132745389071280</title>\n<path fill=\"none\" stroke=\"black\" d=\"M290.25,-73.5C298.43,-73.5 308.03,-73.5 318.31,-73.5\"/>\n<polygon fill=\"black\" stroke=\"black\" points=\"318.35,-77 328.35,-73.5 318.35,-70 318.35,-77\"/>\n</g>\n<!-- 132745389070176 -->\n<g id=\"node20\" class=\"node\">\n<title>132745389070176</title>\n<polygon fill=\"none\" stroke=\"black\" points=\"2821,-80.5 2821,-116.5 3006,-116.5 3006,-80.5 2821,-80.5\"/>\n<text text-anchor=\"middle\" x=\"2832.5\" y=\"-94.8\" font-family=\"Times,serif\" font-size=\"14.00\">o</text>\n<polyline fill=\"none\" stroke=\"black\" points=\"2844,-80.5 2844,-116.5 \"/>\n<text text-anchor=\"middle\" x=\"2884\" y=\"-94.8\" font-family=\"Times,serif\" font-size=\"14.00\">data 0.7071</text>\n<polyline fill=\"none\" stroke=\"black\" points=\"2924,-80.5 2924,-116.5 \"/>\n<text text-anchor=\"middle\" x=\"2965\" y=\"-94.8\" font-family=\"Times,serif\" font-size=\"14.00\">grad 1.0000</text>\n</g>\n<!-- 132745389070176*&#45;&gt;132745389070176 -->\n<g id=\"edge8\" class=\"edge\">\n<title>132745389070176*&#45;&gt;132745389070176</title>\n<path fill=\"none\" stroke=\"black\" d=\"M2785.04,-98.5C2792.58,-98.5 2801.3,-98.5 2810.57,-98.5\"/>\n<polygon fill=\"black\" stroke=\"black\" points=\"2810.81,-102 2820.81,-98.5 2810.81,-95 2810.81,-102\"/>\n</g>\n<!-- 132745389073776 -->\n<g id=\"node22\" class=\"node\">\n<title>132745389073776</title>\n<polygon fill=\"none\" stroke=\"black\" points=\"666,-82.5 666,-118.5 925,-118.5 925,-82.5 666,-82.5\"/>\n<text text-anchor=\"middle\" x=\"712\" y=\"-96.8\" font-family=\"Times,serif\" font-size=\"14.00\">x1w1 + x2w2</text>\n<polyline fill=\"none\" stroke=\"black\" points=\"758,-82.5 758,-118.5 \"/>\n<text text-anchor=\"middle\" x=\"800.5\" y=\"-96.8\" font-family=\"Times,serif\" font-size=\"14.00\">data &#45;6.0000</text>\n<polyline fill=\"none\" stroke=\"black\" points=\"843,-82.5 843,-118.5 \"/>\n<text text-anchor=\"middle\" x=\"884\" y=\"-96.8\" font-family=\"Times,serif\" font-size=\"14.00\">grad 0.5000</text>\n</g>\n<!-- 132745389073776&#45;&gt;132745389073488+ -->\n<g id=\"edge13\" class=\"edge\">\n<title>132745389073776&#45;&gt;132745389073488+</title>\n<path fill=\"none\" stroke=\"black\" d=\"M923.57,-118.51C933.55,-119.92 943,-121.26 951.42,-122.46\"/>\n<polygon fill=\"black\" stroke=\"black\" points=\"951.09,-125.95 961.48,-123.88 952.07,-119.01 951.09,-125.95\"/>\n</g>\n<!-- 132745389073776+&#45;&gt;132745389073776 -->\n<g id=\"edge9\" class=\"edge\">\n<title>132745389073776+&#45;&gt;132745389073776</title>\n<path fill=\"none\" stroke=\"black\" d=\"M630.09,-100.5C637.58,-100.5 646.3,-100.5 655.75,-100.5\"/>\n<polygon fill=\"black\" stroke=\"black\" points=\"655.84,-104 665.84,-100.5 655.84,-97 655.84,-104\"/>\n</g>\n<!-- 132745389069696 -->\n<g id=\"node24\" class=\"node\">\n<title>132745389069696</title>\n<polygon fill=\"none\" stroke=\"black\" points=\"2236,-108.5 2236,-144.5 2434,-144.5 2434,-108.5 2236,-108.5\"/>\n<text text-anchor=\"middle\" x=\"2254\" y=\"-122.8\" font-family=\"Times,serif\" font-size=\"14.00\">exp</text>\n<polyline fill=\"none\" stroke=\"black\" points=\"2272,-108.5 2272,-144.5 \"/>\n<text text-anchor=\"middle\" x=\"2312\" y=\"-122.8\" font-family=\"Times,serif\" font-size=\"14.00\">data 4.8284</text>\n<polyline fill=\"none\" stroke=\"black\" points=\"2352,-108.5 2352,-144.5 \"/>\n<text text-anchor=\"middle\" x=\"2393\" y=\"-122.8\" font-family=\"Times,serif\" font-size=\"14.00\">grad 0.1464</text>\n</g>\n<!-- 132745389069696&#45;&gt;132745389070176* -->\n<g id=\"edge22\" class=\"edge\">\n<title>132745389069696&#45;&gt;132745389070176*</title>\n<path fill=\"none\" stroke=\"black\" d=\"M2434.17,-119.97C2525.82,-113.88 2657.63,-105.11 2720.7,-100.91\"/>\n<polygon fill=\"black\" stroke=\"black\" points=\"2721.19,-104.39 2730.93,-100.23 2720.72,-97.41 2721.19,-104.39\"/>\n</g>\n<!-- 132745389069696+&#45;&gt;132745389069696 -->\n<g id=\"edge10\" class=\"edge\">\n<title>132745389069696+&#45;&gt;132745389069696</title>\n<path fill=\"none\" stroke=\"black\" d=\"M1962.11,-126.5C2014.65,-126.5 2135.77,-126.5 2225.59,-126.5\"/>\n<polygon fill=\"black\" stroke=\"black\" points=\"2225.83,-130 2235.83,-126.5 2225.83,-123 2225.83,-130\"/>\n</g>\n<!-- 132745389076896 -->\n<g id=\"node26\" class=\"node\">\n<title>132745389076896</title>\n<polygon fill=\"none\" stroke=\"black\" points=\"4,-0.5 4,-36.5 196,-36.5 196,-0.5 4,-0.5\"/>\n<text text-anchor=\"middle\" x=\"19\" y=\"-14.8\" font-family=\"Times,serif\" font-size=\"14.00\">x2</text>\n<polyline fill=\"none\" stroke=\"black\" points=\"34,-0.5 34,-36.5 \"/>\n<text text-anchor=\"middle\" x=\"74\" y=\"-14.8\" font-family=\"Times,serif\" font-size=\"14.00\">data 0.0000</text>\n<polyline fill=\"none\" stroke=\"black\" points=\"114,-0.5 114,-36.5 \"/>\n<text text-anchor=\"middle\" x=\"155\" y=\"-14.8\" font-family=\"Times,serif\" font-size=\"14.00\">grad 0.5000</text>\n</g>\n<!-- 132745389076896&#45;&gt;132745389071280* -->\n<g id=\"edge23\" class=\"edge\">\n<title>132745389076896&#45;&gt;132745389071280*</title>\n<path fill=\"none\" stroke=\"black\" d=\"M172.53,-36.56C181.84,-39.33 191.2,-42.33 200,-45.5 210.53,-49.29 221.75,-54.1 231.72,-58.67\"/>\n<polygon fill=\"black\" stroke=\"black\" points=\"230.28,-61.86 240.82,-62.93 233.25,-55.52 230.28,-61.86\"/>\n</g>\n<!-- 132745389077424 -->\n<g id=\"node27\" class=\"node\">\n<title>132745389077424</title>\n<polygon fill=\"none\" stroke=\"black\" points=\"2,-165.5 2,-201.5 198,-201.5 198,-165.5 2,-165.5\"/>\n<text text-anchor=\"middle\" x=\"17\" y=\"-179.8\" font-family=\"Times,serif\" font-size=\"14.00\">x1</text>\n<polyline fill=\"none\" stroke=\"black\" points=\"32,-165.5 32,-201.5 \"/>\n<text text-anchor=\"middle\" x=\"72\" y=\"-179.8\" font-family=\"Times,serif\" font-size=\"14.00\">data 2.0000</text>\n<polyline fill=\"none\" stroke=\"black\" points=\"112,-165.5 112,-201.5 \"/>\n<text text-anchor=\"middle\" x=\"155\" y=\"-179.8\" font-family=\"Times,serif\" font-size=\"14.00\">grad &#45;1.5000</text>\n</g>\n<!-- 132745389077424&#45;&gt;132745389073680* -->\n<g id=\"edge15\" class=\"edge\">\n<title>132745389077424&#45;&gt;132745389073680*</title>\n<path fill=\"none\" stroke=\"black\" d=\"M172.53,-165.44C181.84,-162.67 191.2,-159.67 200,-156.5 210.53,-152.71 221.75,-147.9 231.72,-143.33\"/>\n<polygon fill=\"black\" stroke=\"black\" points=\"233.25,-146.48 240.82,-139.07 230.28,-140.14 233.25,-146.48\"/>\n</g>\n<!-- 132745389076464 -->\n<g id=\"node28\" class=\"node\">\n<title>132745389076464</title>\n<polygon fill=\"none\" stroke=\"black\" points=\"0,-110.5 0,-146.5 200,-146.5 200,-110.5 0,-110.5\"/>\n<text text-anchor=\"middle\" x=\"16.5\" y=\"-124.8\" font-family=\"Times,serif\" font-size=\"14.00\">w1</text>\n<polyline fill=\"none\" stroke=\"black\" points=\"33,-110.5 33,-146.5 \"/>\n<text text-anchor=\"middle\" x=\"75.5\" y=\"-124.8\" font-family=\"Times,serif\" font-size=\"14.00\">data &#45;3.0000</text>\n<polyline fill=\"none\" stroke=\"black\" points=\"118,-110.5 118,-146.5 \"/>\n<text text-anchor=\"middle\" x=\"159\" y=\"-124.8\" font-family=\"Times,serif\" font-size=\"14.00\">grad 1.0000</text>\n</g>\n<!-- 132745389076464&#45;&gt;132745389073680* -->\n<g id=\"edge14\" class=\"edge\">\n<title>132745389076464&#45;&gt;132745389073680*</title>\n<path fill=\"none\" stroke=\"black\" d=\"M200.21,-128.5C209.2,-128.5 217.86,-128.5 225.7,-128.5\"/>\n<polygon fill=\"black\" stroke=\"black\" points=\"225.85,-132 235.85,-128.5 225.85,-125 225.85,-132\"/>\n</g>\n</g>\n</svg>\n",
            "text/plain": [
              "<graphviz.graphs.Digraph at 0x78bb31c29af0>"
            ]
          },
          "metadata": {},
          "execution_count": 30
        }
      ]
    },
    {
      "cell_type": "code",
      "source": [
        "#bugfix with things like f(x) = x + x\n",
        "a = Value(3.0, label = \"a\")\n",
        "b = a + a; b.label = 'b'\n",
        "b.backward()\n",
        "draw_dot(b)"
      ],
      "metadata": {
        "colab": {
          "base_uri": "https://localhost:8080/",
          "height": 81
        },
        "id": "FrghR9-WNOTh",
        "outputId": "0d9c48f3-3d62-4ea8-a811-b983d144ab0b"
      },
      "execution_count": 20,
      "outputs": [
        {
          "output_type": "execute_result",
          "data": {
            "image/svg+xml": "<?xml version=\"1.0\" encoding=\"UTF-8\" standalone=\"no\"?>\n<!DOCTYPE svg PUBLIC \"-//W3C//DTD SVG 1.1//EN\"\n \"http://www.w3.org/Graphics/SVG/1.1/DTD/svg11.dtd\">\n<!-- Generated by graphviz version 2.43.0 (0)\n -->\n<!-- Title: %3 Pages: 1 -->\n<svg width=\"504pt\" height=\"45pt\"\n viewBox=\"0.00 0.00 504.00 45.00\" xmlns=\"http://www.w3.org/2000/svg\" xmlns:xlink=\"http://www.w3.org/1999/xlink\">\n<g id=\"graph0\" class=\"graph\" transform=\"scale(1 1) rotate(0) translate(4 41)\">\n<title>%3</title>\n<polygon fill=\"white\" stroke=\"transparent\" points=\"-4,4 -4,-41 500,-41 500,4 -4,4\"/>\n<!-- 132745389055904 -->\n<g id=\"node1\" class=\"node\">\n<title>132745389055904</title>\n<polygon fill=\"none\" stroke=\"black\" points=\"311,-0.5 311,-36.5 496,-36.5 496,-0.5 311,-0.5\"/>\n<text text-anchor=\"middle\" x=\"322.5\" y=\"-14.8\" font-family=\"Times,serif\" font-size=\"14.00\">b</text>\n<polyline fill=\"none\" stroke=\"black\" points=\"334,-0.5 334,-36.5 \"/>\n<text text-anchor=\"middle\" x=\"374\" y=\"-14.8\" font-family=\"Times,serif\" font-size=\"14.00\">data 6.0000</text>\n<polyline fill=\"none\" stroke=\"black\" points=\"414,-0.5 414,-36.5 \"/>\n<text text-anchor=\"middle\" x=\"455\" y=\"-14.8\" font-family=\"Times,serif\" font-size=\"14.00\">grad 1.0000</text>\n</g>\n<!-- 132745389055904+ -->\n<g id=\"node2\" class=\"node\">\n<title>132745389055904+</title>\n<ellipse fill=\"none\" stroke=\"black\" cx=\"248\" cy=\"-18.5\" rx=\"27\" ry=\"18\"/>\n<text text-anchor=\"middle\" x=\"248\" y=\"-14.8\" font-family=\"Times,serif\" font-size=\"14.00\">+</text>\n</g>\n<!-- 132745389055904+&#45;&gt;132745389055904 -->\n<g id=\"edge1\" class=\"edge\">\n<title>132745389055904+&#45;&gt;132745389055904</title>\n<path fill=\"none\" stroke=\"black\" d=\"M275.04,-18.5C282.58,-18.5 291.3,-18.5 300.57,-18.5\"/>\n<polygon fill=\"black\" stroke=\"black\" points=\"300.81,-22 310.81,-18.5 300.81,-15 300.81,-22\"/>\n</g>\n<!-- 132745387249440 -->\n<g id=\"node3\" class=\"node\">\n<title>132745387249440</title>\n<polygon fill=\"none\" stroke=\"black\" points=\"0,-0.5 0,-36.5 185,-36.5 185,-0.5 0,-0.5\"/>\n<text text-anchor=\"middle\" x=\"11.5\" y=\"-14.8\" font-family=\"Times,serif\" font-size=\"14.00\">a</text>\n<polyline fill=\"none\" stroke=\"black\" points=\"23,-0.5 23,-36.5 \"/>\n<text text-anchor=\"middle\" x=\"63\" y=\"-14.8\" font-family=\"Times,serif\" font-size=\"14.00\">data 3.0000</text>\n<polyline fill=\"none\" stroke=\"black\" points=\"103,-0.5 103,-36.5 \"/>\n<text text-anchor=\"middle\" x=\"144\" y=\"-14.8\" font-family=\"Times,serif\" font-size=\"14.00\">grad 2.0000</text>\n</g>\n<!-- 132745387249440&#45;&gt;132745389055904+ -->\n<g id=\"edge2\" class=\"edge\">\n<title>132745387249440&#45;&gt;132745389055904+</title>\n<path fill=\"none\" stroke=\"black\" d=\"M185.01,-18.5C194.01,-18.5 202.74,-18.5 210.66,-18.5\"/>\n<polygon fill=\"black\" stroke=\"black\" points=\"210.91,-22 220.91,-18.5 210.91,-15 210.91,-22\"/>\n</g>\n</g>\n</svg>\n",
            "text/plain": [
              "<graphviz.graphs.Digraph at 0x78bb31c2a030>"
            ]
          },
          "metadata": {},
          "execution_count": 20
        }
      ]
    },
    {
      "cell_type": "code",
      "source": [
        "import torch"
      ],
      "metadata": {
        "id": "V_2XPZsQNSQP"
      },
      "execution_count": 31,
      "outputs": []
    },
    {
      "cell_type": "code",
      "source": [
        "x1 = torch.Tensor([2.0]).double()                ; x1.requires_grad = True\n",
        "x2 = torch.Tensor([0.0]).double()                ; x2.requires_grad = True\n",
        "w1 = torch.Tensor([-3.0]).double()               ; w1.requires_grad = True\n",
        "w2 = torch.Tensor([1.0]).double()                ; w2.requires_grad = True\n",
        "b = torch.Tensor([6.8813735870195432]).double()  ; b.requires_grad = True\n",
        "n = x1*w1 + x2*w2 + b\n",
        "o = torch.tanh(n)\n",
        "\n",
        "print(o.data.item())\n",
        "o.backward()\n",
        "\n",
        "print('---')\n",
        "print('x2', x2.grad.item())\n",
        "print('w2', w2.grad.item())\n",
        "print('x1', x1.grad.item())\n",
        "print('w1', w1.grad.item())\n"
      ],
      "metadata": {
        "colab": {
          "base_uri": "https://localhost:8080/"
        },
        "id": "mc8uL600qk4l",
        "outputId": "d08b6b10-806c-40cb-f33e-ec9846967fa6"
      },
      "execution_count": 32,
      "outputs": [
        {
          "output_type": "stream",
          "name": "stdout",
          "text": [
            "0.7071066904050358\n",
            "---\n",
            "x2 0.5000001283844369\n",
            "w2 0.0\n",
            "x1 -1.5000003851533106\n",
            "w1 1.0000002567688737\n"
          ]
        }
      ]
    },
    {
      "cell_type": "code",
      "source": [
        "import random"
      ],
      "metadata": {
        "id": "gTqqs3rbxGRq"
      },
      "execution_count": 33,
      "outputs": []
    },
    {
      "cell_type": "code",
      "source": [
        "class Neuron:\n",
        "  def __init__(self, nIn):\n",
        "    self.w = [Value(random.uniform(-1, 1)) for _ in range(nIn)]\n",
        "    self.b = Value(random.uniform(-1, 1))\n",
        "  def __call__(self, x):\n",
        "    # calculate w * x + b\n",
        "    act = sum((xi * wi for xi, wi in zip(self.w, x)), self.b)\n",
        "    out = act.tanh()\n",
        "    return out\n",
        "  def parameters(self):\n",
        "    return self.w + [self.b]\n",
        "\n",
        "class Layer:\n",
        "  def __init__(self, nIn, nOut):\n",
        "    self.neurons = [Neuron(nIn) for _ in range(nOut)]\n",
        "\n",
        "  def __call__(self, x):\n",
        "    outs = [n(x) for n in self.neurons]\n",
        "    return outs[0] if len(outs) == 1 else outs\n",
        "  def parameters(self):\n",
        "    params = []\n",
        "    for neuron in self.neurons:\n",
        "      ps = neuron.parameters();\n",
        "      params.extend(ps);\n",
        "    return params\n",
        "\n",
        "class MLP:\n",
        "  def __init__(self, nin, nout):\n",
        "    sz = [nin] + nout #list with n inputs, nout is list with outputs per level\n",
        "    self.layers = [Layer(sz[i], sz[i + 1]) for i in range(len(nout))]\n",
        "\n",
        "  def __call__(self, x):\n",
        "    for layer in self.layers:\n",
        "      x = layer(x)\n",
        "    return x\n",
        "\n",
        "x = [2.0, 3.0, -1.0]\n",
        "n = MLP(3, [4, 4, 1])\n",
        "n(x)"
      ],
      "metadata": {
        "colab": {
          "base_uri": "https://localhost:8080/"
        },
        "id": "mDZ_vBwZwsmd",
        "outputId": "11439087-9bff-4d0f-e708-f3ce0ad85501"
      },
      "execution_count": 110,
      "outputs": [
        {
          "output_type": "execute_result",
          "data": {
            "text/plain": [
              "Value(data=-0.07887291635107933)"
            ]
          },
          "metadata": {},
          "execution_count": 110
        }
      ]
    },
    {
      "cell_type": "code",
      "source": [
        "#Creating a very small dataset with 4 example inputs, essentially binary classifier that either outputs 1 or -1 is the goal\n",
        "xs = [\n",
        "    [2.0,  3.0, -1.0],\n",
        "    [3.0, -1.0,  0.5],\n",
        "    [0.5,  1.0,  1.0],\n",
        "    [1.0,  1.0, -1.0],\n",
        "]\n",
        "\n",
        "ys = [1.0, -1.0, -1.0, 1.0]  # desired outputs\n",
        "\n",
        "ypred = [n(x) for x in xs]\n",
        "ypred"
      ],
      "metadata": {
        "colab": {
          "base_uri": "https://localhost:8080/"
        },
        "id": "QdVH_go00zf7",
        "outputId": "f0f4cfa1-3f7f-4245-f07a-1c153abecca3"
      },
      "execution_count": 101,
      "outputs": [
        {
          "output_type": "execute_result",
          "data": {
            "text/plain": [
              "[Value(data=0.655852279038885),\n",
              " Value(data=-0.0052883642878256),\n",
              " Value(data=0.7348622806274087),\n",
              " Value(data=0.03746393435189569)]"
            ]
          },
          "metadata": {},
          "execution_count": 101
        }
      ]
    },
    {
      "cell_type": "code",
      "source": [
        "loss = sum((yi - predi)**2 for yi, predi in zip(ys, ypred))\n",
        "loss.backward()"
      ],
      "metadata": {
        "id": "XblugrhT7MzV"
      },
      "execution_count": 103,
      "outputs": []
    },
    {
      "cell_type": "code",
      "source": [
        "n.layers[0].neurons[0].w[0].grad #this gets us how much each weight influences the loss function\n",
        "#for the training data above. That means, if the grad is negative, slightly increasing this weight will make our loss smaller"
      ],
      "metadata": {
        "colab": {
          "base_uri": "https://localhost:8080/"
        },
        "id": "bGrIwEBn91-J",
        "outputId": "d25ccf30-dc5e-4522-8fe0-c38ef4fd2e17"
      },
      "execution_count": 108,
      "outputs": [
        {
          "output_type": "execute_result",
          "data": {
            "text/plain": [
              "6.214521697434284"
            ]
          },
          "metadata": {},
          "execution_count": 108
        }
      ]
    }
  ]
}